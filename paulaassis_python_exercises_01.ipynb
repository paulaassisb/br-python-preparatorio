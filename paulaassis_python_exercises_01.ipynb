{
  "nbformat": 4,
  "nbformat_minor": 0,
  "metadata": {
    "colab": {
      "name": "paulaassis_python_exercises_01.ipynb",
      "provenance": [],
      "collapsed_sections": [],
      "toc_visible": true,
      "include_colab_link": true
    },
    "kernelspec": {
      "name": "python3",
      "display_name": "Python 3"
    }
  },
  "cells": [
    {
      "cell_type": "markdown",
      "metadata": {
        "id": "view-in-github",
        "colab_type": "text"
      },
      "source": [
        "<a href=\"https://colab.research.google.com/github/paulaassisb/br-python-preparatorio/blob/master/paulaassis_python_exercises_01.ipynb\" target=\"_parent\"><img src=\"https://colab.research.google.com/assets/colab-badge.svg\" alt=\"Open In Colab\"/></a>"
      ]
    },
    {
      "cell_type": "markdown",
      "metadata": {
        "id": "8YqaSZgXYJ5g",
        "colab_type": "text"
      },
      "source": [
        "![](https://i.imgur.com/YX6UATs.png)\n"
      ]
    },
    {
      "cell_type": "markdown",
      "metadata": {
        "id": "hhUVzDipaGb9",
        "colab_type": "text"
      },
      "source": [
        "### **Exercícios de Python - 1** \n",
        "\n",
        "\n",
        "\n"
      ]
    },
    {
      "cell_type": "markdown",
      "metadata": {
        "id": "7O6AZt8-aGlr",
        "colab_type": "text"
      },
      "source": [
        "1 - Faça um Programa que peça dois números e imprima a soma.\n"
      ]
    },
    {
      "cell_type": "code",
      "metadata": {
        "id": "ibipMzmZcfIF",
        "colab_type": "code",
        "colab": {}
      },
      "source": [
        "def calcula_idade():\n",
        "  numero_1 = int(input('Quantos irmãos você tem? '))\n",
        "  numero_2 = int(input('Quantos irmãs você tem? '))\n",
        "  total = (numero_1)+(numero_2)\n",
        "  return f'Olá, você tem {total} irmãos no total!'"
      ],
      "execution_count": null,
      "outputs": []
    },
    {
      "cell_type": "code",
      "metadata": {
        "id": "Gvb0HPGZQrjs",
        "colab_type": "code",
        "colab": {
          "base_uri": "https://localhost:8080/",
          "height": 69
        },
        "outputId": "418e1012-8465-4ba8-b3ba-9aa92d614530"
      },
      "source": [
        "calcula_idade()"
      ],
      "execution_count": null,
      "outputs": [
        {
          "output_type": "stream",
          "text": [
            "Quantos irmãos você tem? 2\n",
            "Quantos irmãs você tem? 3\n"
          ],
          "name": "stdout"
        },
        {
          "output_type": "execute_result",
          "data": {
            "application/vnd.google.colaboratory.intrinsic+json": {
              "type": "string"
            },
            "text/plain": [
              "'Olá, você tem 5 irmãos no total!'"
            ]
          },
          "metadata": {
            "tags": []
          },
          "execution_count": 2
        }
      ]
    },
    {
      "cell_type": "markdown",
      "metadata": {
        "id": "c62cM2VlKFqN",
        "colab_type": "text"
      },
      "source": [
        "2 - Faça uma função que informe a quantidade de dígitos de um determinado número inteiro informado."
      ]
    },
    {
      "cell_type": "code",
      "metadata": {
        "id": "M_5mNjNbKFMI",
        "colab_type": "code",
        "colab": {
          "base_uri": "https://localhost:8080/",
          "height": 68
        },
        "outputId": "e9662aa5-2765-441e-81b2-b02455b73c2c"
      },
      "source": [
        "def num_int():\n",
        "  print('Informe um número inteiro:')\n",
        "  num = int(input())\n",
        "  digits = len(str(num))\n",
        "  if digits == 1:\n",
        "    print(f'O número informado tem {digits} dígito.')\n",
        "  else:\n",
        "    print(f'O número informado tem {digits} dígitos.')\n",
        "\n",
        "num_int()"
      ],
      "execution_count": 1,
      "outputs": [
        {
          "output_type": "stream",
          "text": [
            "Informe um número inteiro:\n",
            "38928392\n",
            "O número informado tem 8 dígitos.\n"
          ],
          "name": "stdout"
        }
      ]
    },
    {
      "cell_type": "markdown",
      "metadata": {
        "id": "qMGp-h8OaGqr",
        "colab_type": "text"
      },
      "source": [
        "3 - Faça um programa, com uma função que necessite de três argumentos, e que forneça a soma desses três argumentos."
      ]
    },
    {
      "cell_type": "code",
      "metadata": {
        "id": "kTg-D89NdCld",
        "colab_type": "code",
        "colab": {
          "base_uri": "https://localhost:8080/",
          "height": 34
        },
        "outputId": "eb7e353b-bb21-4a38-e6d1-37cbf4d17f1f"
      },
      "source": [
        "def soma3(a, b, c):\n",
        "    soma_args = int(a) + int(b) + int(c)\n",
        "    print(f'A soma dos números é igual a {soma_args}')\n",
        "\n",
        "soma3(5, 3, 5)"
      ],
      "execution_count": 11,
      "outputs": [
        {
          "output_type": "stream",
          "text": [
            "A soma dos números é igual a 13\n"
          ],
          "name": "stdout"
        }
      ]
    },
    {
      "cell_type": "markdown",
      "metadata": {
        "id": "KdLXZftIaG60",
        "colab_type": "text"
      },
      "source": [
        "4 - Faça um Programa que peça a temperatura em graus Celsius, transforme e mostre em graus Fahrenheit. \\\n",
        "*Dica: procure a fórmula para essa conversão na internet*"
      ]
    },
    {
      "cell_type": "code",
      "metadata": {
        "id": "990mQ6UhdwKl",
        "colab_type": "code",
        "colab": {
          "base_uri": "https://localhost:8080/",
          "height": 85
        },
        "outputId": "be892562-9962-433b-bc96-a83fa2f50f26"
      },
      "source": [
        "def temperatura_fah():\n",
        "  print('Faça a conversão de graus Celsius para graus Fahrenheit.')\n",
        "  print('Informa a temperatura em graus Celsius (ex: -2, 0, 13, 17).')\n",
        "  temperatura_celsius = int(input())\n",
        "  conversao = (temperatura_celsius * 9/5) + 32\n",
        "  print(f'A temperatura convertida é de {conversao} graus Fahrenheit.')\n",
        "temperatura_fah()"
      ],
      "execution_count": 18,
      "outputs": [
        {
          "output_type": "stream",
          "text": [
            "Faça a conversão de graus Celsius para graus Fahrenheit.\n",
            "Informa a temperatura em graus Celsius (ex: -2, 0, 13, 17).\n",
            "10\n",
            "A temperatura convertida é de 50.0 graus Fahrenheit.\n"
          ],
          "name": "stdout"
        }
      ]
    },
    {
      "cell_type": "markdown",
      "metadata": {
        "id": "FTK9nE4pdB1D",
        "colab_type": "text"
      },
      "source": [
        "5 - Faça um Programa que pergunte quanto você ganha por hora e o número de horas trabalhadas no mês. Calcule e mostre o total do seu salário no referido mês.\n"
      ]
    },
    {
      "cell_type": "code",
      "metadata": {
        "id": "nW4SbDxTmx4t",
        "colab_type": "code",
        "colab": {
          "base_uri": "https://localhost:8080/",
          "height": 119
        },
        "outputId": "18c4e6b7-cb3b-4439-c955-9bf52ed35012"
      },
      "source": [
        "def calcula_salario():\n",
        "  print('Calculo de salário mensal')\n",
        "  print('Informe o número de horas trabalhas no mês')\n",
        "  horas_trabalhadas = int(input())\n",
        "  print('Informe o valor ganho por hora trabalhada')\n",
        "  valor_hora = int(input())\n",
        "  salario_mensal = (horas_trabalhadas * valor_hora)\n",
        "  print(f'o total do seu salário no referido mês é de {salario_mensal}.')\n",
        "\n",
        "calcula_salario()"
      ],
      "execution_count": 21,
      "outputs": [
        {
          "output_type": "stream",
          "text": [
            "Calculo de salário mensal\n",
            "Informe o número de horas trabalhas no mês\n",
            "176\n",
            "Informe o valor ganho por hora trabalhada\n",
            "110\n",
            "o total do seu salário no referido mês é de 19360.\n"
          ],
          "name": "stdout"
        }
      ]
    },
    {
      "cell_type": "markdown",
      "metadata": {
        "id": "_HbJNv8MaG4g",
        "colab_type": "text"
      },
      "source": [
        "6 - Faça um programa para uma loja de tintas. O programa deverá pedir o tamanho em metros quadrados da área a ser pintada. Considere que a cobertura da tinta é de 1 litro para cada 3 metros quadrados e que a tinta é vendida em latas de 18 litros, que custam R$ 80,00. Informe ao usuário a quantidades de latas de tinta a serem compradas e o preço total."
      ]
    },
    {
      "cell_type": "code",
      "metadata": {
        "id": "LJDxmAbJeO9V",
        "colab_type": "code",
        "colab": {}
      },
      "source": [
        ""
      ],
      "execution_count": null,
      "outputs": []
    },
    {
      "cell_type": "markdown",
      "metadata": {
        "id": "0tkhm6EUaG1u",
        "colab_type": "text"
      },
      "source": [
        "7 - Faça um programa para a leitura de duas notas parciais de um aluno. O programa deve calcular a média alcançada por aluno e apresentar:\n",
        "- A mensagem \"Aprovado\", se a média alcançada for maior ou igual a sete;\n",
        "- A mensagem \"Reprovado\", se a média for menor do que sete;\n",
        "- A mensagem \"Aprovado com Distinção\", se a média for igual a dez."
      ]
    },
    {
      "cell_type": "code",
      "metadata": {
        "id": "MNINJ32eU45M",
        "colab_type": "code",
        "colab": {}
      },
      "source": [
        ""
      ],
      "execution_count": null,
      "outputs": []
    },
    {
      "cell_type": "markdown",
      "metadata": {
        "id": "4OETBVgmaGzX",
        "colab_type": "text"
      },
      "source": [
        "8 - Faça um Programa que peça um número inteiro e determine se ele é par ou impar. Dica: utilize o operador módulo (resto da divisão)."
      ]
    },
    {
      "cell_type": "code",
      "metadata": {
        "id": "WbzCimFZVSr1",
        "colab_type": "code",
        "colab": {}
      },
      "source": [
        ""
      ],
      "execution_count": null,
      "outputs": []
    },
    {
      "cell_type": "markdown",
      "metadata": {
        "id": "7zPJ8sgPaGw0",
        "colab_type": "text"
      },
      "source": [
        "9 - Faça um programa que peça o tamanho de um arquivo para download (em MB) e a velocidade de um link de Internet (em Mbps), calcule e informe o tempo aproximado de download do arquivo usando este link (em minutos)."
      ]
    },
    {
      "cell_type": "code",
      "metadata": {
        "id": "l4qtSxU7XquB",
        "colab_type": "code",
        "colab": {}
      },
      "source": [
        "def tempo_download():\n",
        "  tamanho = float(input('Qual o tamanho do arquivo?'))*8\n",
        "  velocidade = float(input('Qual a velocidade da internet (em Mbps)?'))\n",
        "  t_sec = tamanho/velocidade\n",
        "  t_min = round(t_sec/60,2)\n",
        "  return f'Seu download demorará {t_min} minutos'\n",
        "\n",
        "tempo_download()"
      ],
      "execution_count": 20,
      "outputs": []
    },
    {
      "cell_type": "markdown",
      "metadata": {
        "id": "Lm1tOKThnU42",
        "colab_type": "text"
      },
      "source": [
        "Exercícios adaptados de Python Brasil"
      ]
    }
  ]
}