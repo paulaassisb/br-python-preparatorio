{
  "nbformat": 4,
  "nbformat_minor": 0,
  "metadata": {
    "colab": {
      "name": "paulaassis_python_exercises_02.ipynb",
      "provenance": [],
      "include_colab_link": true
    },
    "kernelspec": {
      "name": "python3",
      "display_name": "Python 3"
    }
  },
  "cells": [
    {
      "cell_type": "markdown",
      "metadata": {
        "id": "view-in-github",
        "colab_type": "text"
      },
      "source": [
        "<a href=\"https://colab.research.google.com/github/paulaassisb/br-python-preparatorio/blob/master/paulaassis_python_exercises_02.ipynb\" target=\"_parent\"><img src=\"https://colab.research.google.com/assets/colab-badge.svg\" alt=\"Open In Colab\"/></a>"
      ]
    },
    {
      "cell_type": "markdown",
      "metadata": {
        "id": "8YqaSZgXYJ5g",
        "colab_type": "text"
      },
      "source": [
        "![](https://i.imgur.com/YX6UATs.png)\n"
      ]
    },
    {
      "cell_type": "markdown",
      "metadata": {
        "id": "hhUVzDipaGb9",
        "colab_type": "text"
      },
      "source": [
        "### **Exercícios de Python - 2** \n",
        "\n",
        "\n",
        "\n"
      ]
    },
    {
      "cell_type": "markdown",
      "metadata": {
        "id": "7O6AZt8-aGlr",
        "colab_type": "text"
      },
      "source": [
        "1 - Faça um programa, com uma função que necessite de um argumento. A função retorna o valor de caractere ‘P’, se seu argumento for positivo, e ‘N’, se seu argumento for zero ou negativo.\n"
      ]
    },
    {
      "cell_type": "code",
      "metadata": {
        "id": "ibipMzmZcfIF",
        "colab_type": "code",
        "colab": {
          "base_uri": "https://localhost:8080/",
          "height": 37
        },
        "outputId": "2fc5585b-ae74-498b-c5a7-11e3ee62363c"
      },
      "source": [
        "def argumento(a):\n",
        "  if a <= 0:\n",
        "    return \"N\"\n",
        "  else:\n",
        "    return \"P\"\n",
        "\n",
        "argumento(5)"
      ],
      "execution_count": 4,
      "outputs": [
        {
          "output_type": "execute_result",
          "data": {
            "application/vnd.google.colaboratory.intrinsic+json": {
              "type": "string"
            },
            "text/plain": [
              "'P'"
            ]
          },
          "metadata": {
            "tags": []
          },
          "execution_count": 4
        }
      ]
    },
    {
      "cell_type": "markdown",
      "metadata": {
        "id": "c62cM2VlKFqN",
        "colab_type": "text"
      },
      "source": [
        "2 - Faça um programa que leia um nome de usuário e a sua senha e não aceite a senha igual ao nome do usuário, mostrando uma mensagem de erro."
      ]
    },
    {
      "cell_type": "code",
      "metadata": {
        "id": "A3ajzaOSq69B",
        "colab_type": "code",
        "colab": {
          "base_uri": "https://localhost:8080/",
          "height": 71
        },
        "outputId": "66069cef-2774-460c-884b-8d9129b9b72c"
      },
      "source": [
        "def acesso():\n",
        "  login = input('Digite seu nome de usuário:')\n",
        "  senha = input('Digite sua senha:')\n",
        "  if login == senha:\n",
        "    return \"A senha cadastrada não pode ser igual ao nome do usuário\"\n",
        "  else:\n",
        "    return \"Senha cadastrada com sucesso!\"\n",
        "\n",
        "acesso()"
      ],
      "execution_count": 10,
      "outputs": [
        {
          "output_type": "stream",
          "text": [
            "Digite seu nome de usuário:testando-teste\n",
            "Digite sua senha:testando-teste\n"
          ],
          "name": "stdout"
        },
        {
          "output_type": "execute_result",
          "data": {
            "application/vnd.google.colaboratory.intrinsic+json": {
              "type": "string"
            },
            "text/plain": [
              "'A senha cadastrada não pode ser igual ao nome do usuário'"
            ]
          },
          "metadata": {
            "tags": []
          },
          "execution_count": 10
        }
      ]
    },
    {
      "cell_type": "markdown",
      "metadata": {
        "id": "KdLXZftIaG60",
        "colab_type": "text"
      },
      "source": [
        "3 - Faça uma função cujo input é uma lista de números e que retorne a média e a mediana desses números sem a importação de módulos. \\\n",
        "*Dica: procure as fórmulas na internet, caso não se lembre*"
      ]
    },
    {
      "cell_type": "code",
      "metadata": {
        "id": "990mQ6UhdwKl",
        "colab_type": "code",
        "colab": {}
      },
      "source": [
        ""
      ],
      "execution_count": null,
      "outputs": []
    },
    {
      "cell_type": "markdown",
      "metadata": {
        "id": "qMGp-h8OaGqr",
        "colab_type": "text"
      },
      "source": [
        "4 - Utilizando listas faça um programa que faça 5 perguntas para uma pessoa sobre um crime. As perguntas são:\n",
        "- \"Telefonou para a vítima?\"\n",
        "- \"Esteve no local do crime?\"\n",
        "- \"Mora perto da vítima?\"\n",
        "- \"Devia para a vítima?\"\n",
        "- \"Já trabalhou com a vítima?\" \\\n",
        "O programa deve no final emitir uma classificação sobre a participação da pessoa no crime. Se a pessoa responder positivamente a 2 questões ela deve ser classificada como \"Suspeita\", entre 3 e 4 como \"Cúmplice\" e 5 como \"Assassino\". Caso contrário, ele será classificado como \"Inocente\"."
      ]
    },
    {
      "cell_type": "code",
      "metadata": {
        "id": "kTg-D89NdCld",
        "colab_type": "code",
        "colab": {
          "base_uri": "https://localhost:8080/",
          "height": 153
        },
        "outputId": "bd557791-743b-4954-9f5a-62dfd2172a69"
      },
      "source": [
        "def caso_crime():\n",
        "  quest1 = input('Telefonou para a vítima? Responda SIM ou NÃO: ')\n",
        "  quest2 = input('Esteve no local do crime? Responda SIM ou NÃO: ')\n",
        "  quest3 = input('Mora perto da vítima? Responda SIM ou NÃO: ')\n",
        "  quest4 = input('Devia para a vítima? Responda SIM ou NÃO: ')\n",
        "  quest5 = input('Já trabalhou com a vítima? Responda SIM ou NÃO: ')\n",
        "  print('\\n')\n",
        "\n",
        "  quest = [quest1, quest2, quest3, quest4, quest5]\n",
        "\n",
        "  respostas = []\n",
        "  for i in quest:\n",
        "    if i == 'sim':\n",
        "      i = 1\n",
        "      respostas.append(i)\n",
        "    else:\n",
        "      i = 0\n",
        "      respostas.append(i)\n",
        "\n",
        "  respostas\n",
        "\n",
        "  if sum(respostas) == 5:\n",
        "    print('Assassino')\n",
        "  elif sum(respostas) > 2 < 5:\n",
        "    print('Cúmplice')\n",
        "  elif sum(respostas) == 2:\n",
        "    print('Suspeita')\n",
        "  else:\n",
        "    print('Inocente')\n",
        "\n",
        "caso_crime()"
      ],
      "execution_count": 21,
      "outputs": [
        {
          "output_type": "stream",
          "text": [
            "Telefonou para a vítima? Responda SIM ou NÃO: sim\n",
            "Esteve no local do crime? Responda SIM ou NÃO: não\n",
            "Mora perto da vítima? Responda SIM ou NÃO: sim\n",
            "Devia para a vítima? Responda SIM ou NÃO: sim\n",
            "Já trabalhou com a vítima? Responda SIM ou NÃO: não\n",
            "\n",
            "\n",
            "Cúmplice\n"
          ],
          "name": "stdout"
        }
      ]
    },
    {
      "cell_type": "markdown",
      "metadata": {
        "id": "FTK9nE4pdB1D",
        "colab_type": "text"
      },
      "source": [
        "5 - A lista abaixo possui nomes de alunos de uma classe. Crie um loop que imprima '{nome} é aluno da classe'\n"
      ]
    },
    {
      "cell_type": "code",
      "metadata": {
        "id": "nW4SbDxTmx4t",
        "colab_type": "code",
        "colab": {}
      },
      "source": [
        "nomes =['Maria','João','Marcelo','Jonas','Laura','Luana']"
      ],
      "execution_count": 22,
      "outputs": []
    },
    {
      "cell_type": "code",
      "metadata": {
        "id": "0sRr8MXCpbGP",
        "colab_type": "code",
        "colab": {
          "base_uri": "https://localhost:8080/",
          "height": 119
        },
        "outputId": "b7410738-6a70-40f7-896b-64be8c60ca55"
      },
      "source": [
        "for nome in nomes:\n",
        "  print (f'{nome} está na lista')"
      ],
      "execution_count": 23,
      "outputs": [
        {
          "output_type": "stream",
          "text": [
            "Maria está na lista\n",
            "João está na lista\n",
            "Marcelo está na lista\n",
            "Jonas está na lista\n",
            "Laura está na lista\n",
            "Luana está na lista\n"
          ],
          "name": "stdout"
        }
      ]
    },
    {
      "cell_type": "markdown",
      "metadata": {
        "id": "_HbJNv8MaG4g",
        "colab_type": "text"
      },
      "source": [
        "6 - Utilizando-se da mesma lista trabalhada acima e a lista dada abaixo, que contem as idades dos alunos, realize um loop que faça a iteração com as duas listas printando \"{nome} tem {idade} anos\".\n",
        "Dica: utilize *zip*()"
      ]
    },
    {
      "cell_type": "code",
      "metadata": {
        "id": "LJDxmAbJeO9V",
        "colab_type": "code",
        "colab": {}
      },
      "source": [
        "idades =[23,34,42,54,26,27]"
      ],
      "execution_count": 25,
      "outputs": []
    },
    {
      "cell_type": "code",
      "metadata": {
        "id": "Kq1Lc7Ukps-V",
        "colab_type": "code",
        "colab": {
          "base_uri": "https://localhost:8080/",
          "height": 119
        },
        "outputId": "0f3539ff-4a5c-4c16-83f4-a068356418f4"
      },
      "source": [
        "nome_idade = list(zip(nomes, idades))\n",
        "for i in nome_idade:\n",
        "  print (f'{i[0]} tem {i[1]} anos.')"
      ],
      "execution_count": 26,
      "outputs": [
        {
          "output_type": "stream",
          "text": [
            "Maria tem 23 anos.\n",
            "João tem 34 anos.\n",
            "Marcelo tem 42 anos.\n",
            "Jonas tem 54 anos.\n",
            "Laura tem 26 anos.\n",
            "Luana tem 27 anos.\n"
          ],
          "name": "stdout"
        }
      ]
    },
    {
      "cell_type": "markdown",
      "metadata": {
        "id": "0tkhm6EUaG1u",
        "colab_type": "text"
      },
      "source": [
        "7 - Transforme as duas listas anteriores em um dicionário cuja chave é o nome e o valor é a idade."
      ]
    },
    {
      "cell_type": "code",
      "metadata": {
        "id": "MNINJ32eU45M",
        "colab_type": "code",
        "colab": {
          "base_uri": "https://localhost:8080/",
          "height": 119
        },
        "outputId": "6f128def-f271-408a-94b2-69bc8e5f4b2c"
      },
      "source": [
        "nome_idade"
      ],
      "execution_count": 27,
      "outputs": [
        {
          "output_type": "execute_result",
          "data": {
            "text/plain": [
              "[('Maria', 23),\n",
              " ('João', 34),\n",
              " ('Marcelo', 42),\n",
              " ('Jonas', 54),\n",
              " ('Laura', 26),\n",
              " ('Luana', 27)]"
            ]
          },
          "metadata": {
            "tags": []
          },
          "execution_count": 27
        }
      ]
    },
    {
      "cell_type": "code",
      "metadata": {
        "id": "_1N9edUzXf_1",
        "colab_type": "code",
        "colab": {
          "base_uri": "https://localhost:8080/",
          "height": 119
        },
        "outputId": "01a6f713-8263-4a6c-b987-24775fcbb303"
      },
      "source": [
        "dicionario = {}\n",
        "for i in nome_idade:\n",
        "  dicionario[i[0]]= {}\n",
        "  dicionario[i[0]]['idade']=i[1]\n",
        "\n",
        "dicionario"
      ],
      "execution_count": 31,
      "outputs": [
        {
          "output_type": "execute_result",
          "data": {
            "text/plain": [
              "{'Jonas': {'idade': 54},\n",
              " 'João': {'idade': 34},\n",
              " 'Laura': {'idade': 26},\n",
              " 'Luana': {'idade': 27},\n",
              " 'Marcelo': {'idade': 42},\n",
              " 'Maria': {'idade': 23}}"
            ]
          },
          "metadata": {
            "tags": []
          },
          "execution_count": 31
        }
      ]
    },
    {
      "cell_type": "markdown",
      "metadata": {
        "id": "Lm1tOKThnU42",
        "colab_type": "text"
      },
      "source": [
        "Exercícios adaptados de Python Brasil"
      ]
    }
  ]
}